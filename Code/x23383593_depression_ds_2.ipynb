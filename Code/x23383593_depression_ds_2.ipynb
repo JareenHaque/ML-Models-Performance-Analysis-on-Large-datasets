{
  "cells": [
    {
      "cell_type": "markdown",
      "metadata": {
        "id": "98HYH9i2WPTI"
      },
      "source": [
        "# New Section"
      ]
    },
    {
      "cell_type": "code",
      "execution_count": 24,
      "metadata": {
        "id": "JkBNAQkQGPp4"
      },
      "outputs": [],
      "source": [
        "import numpy as np\n",
        "import pandas as pd\n",
        "import seaborn as sns\n",
        "import matplotlib.pyplot as plt\n",
        "from sklearn.model_selection import train_test_split, StratifiedKFold,cross_val_score, GridSearchCV, KFold\n",
        "from sklearn.ensemble import RandomForestClassifier\n",
        "from sklearn.preprocessing import OneHotEncoder, StandardScaler\n",
        "from sklearn.compose import ColumnTransformer\n",
        "from sklearn.pipeline import Pipeline\n",
        "from sklearn.metrics import accuracy_score, mean_squared_error, mean_absolute_error, confusion_matrix\n",
        "from sklearn.impute import SimpleImputer\n",
        "from sklearn.metrics import classification_report, make_scorer\n",
        "from sklearn.utils.class_weight import compute_class_weight\n",
        "from sklearn.preprocessing import LabelEncoder\n",
        "from sklearn.neighbors import KNeighborsClassifier\n",
        "\n"
      ]
    },
    {
      "cell_type": "code",
      "execution_count": 167,
      "metadata": {
        "colab": {
          "base_uri": "https://localhost:8080/"
        },
        "id": "8-nE1CJHYkzz",
        "outputId": "a26fce79-97c5-4c91-f77e-375807b4ea3a"
      },
      "outputs": [
        {
          "output_type": "stream",
          "name": "stdout",
          "text": [
            "               Name  Age Marital Status    Education Level  \\\n",
            "0  Christine Barker   31        Married  Bachelor's Degree   \n",
            "1  Jacqueline Lewis   55        Married        High School   \n",
            "2    Shannon Church   78        Widowed    Master's Degree   \n",
            "3    Charles Jordan   58       Divorced    Master's Degree   \n",
            "4      Michael Rich   18         Single        High School   \n",
            "\n",
            "   Number of Children Smoking Status Physical Activity Level  \\\n",
            "0                   2     Non-smoker                  Active   \n",
            "1                   1     Non-smoker               Sedentary   \n",
            "2                   1     Non-smoker               Sedentary   \n",
            "3                   3     Non-smoker                Moderate   \n",
            "4                   0     Non-smoker               Sedentary   \n",
            "\n",
            "  Employment Status     Income Alcohol Consumption Dietary Habits  \\\n",
            "0        Unemployed   26265.67            Moderate       Moderate   \n",
            "1          Employed   42710.36                High      Unhealthy   \n",
            "2          Employed  125332.79                 Low      Unhealthy   \n",
            "3        Unemployed    9992.78            Moderate       Moderate   \n",
            "4        Unemployed    8595.08                 Low       Moderate   \n",
            "\n",
            "  Sleep Patterns History of Mental Illness History of Substance Abuse  \\\n",
            "0           Fair                       Yes                         No   \n",
            "1           Fair                       Yes                         No   \n",
            "2           Good                        No                         No   \n",
            "3           Poor                        No                         No   \n",
            "4           Fair                       Yes                         No   \n",
            "\n",
            "  Family History of Depression Chronic Medical Conditions  \n",
            "0                          Yes                        Yes  \n",
            "1                           No                        Yes  \n",
            "2                          Yes                         No  \n",
            "3                           No                         No  \n",
            "4                          Yes                        Yes  \n",
            "<class 'pandas.core.frame.DataFrame'>\n",
            "RangeIndex: 20048 entries, 0 to 20047\n",
            "Data columns (total 16 columns):\n",
            " #   Column                        Non-Null Count  Dtype  \n",
            "---  ------                        --------------  -----  \n",
            " 0   Name                          20048 non-null  object \n",
            " 1   Age                           20048 non-null  int64  \n",
            " 2   Marital Status                20048 non-null  object \n",
            " 3   Education Level               20048 non-null  object \n",
            " 4   Number of Children            20048 non-null  int64  \n",
            " 5   Smoking Status                20048 non-null  object \n",
            " 6   Physical Activity Level       20048 non-null  object \n",
            " 7   Employment Status             20048 non-null  object \n",
            " 8   Income                        20048 non-null  float64\n",
            " 9   Alcohol Consumption           20048 non-null  object \n",
            " 10  Dietary Habits                20048 non-null  object \n",
            " 11  Sleep Patterns                20048 non-null  object \n",
            " 12  History of Mental Illness     20048 non-null  object \n",
            " 13  History of Substance Abuse    20048 non-null  object \n",
            " 14  Family History of Depression  20048 non-null  object \n",
            " 15  Chronic Medical Conditions    20048 non-null  object \n",
            "dtypes: float64(1), int64(2), object(13)\n",
            "memory usage: 2.4+ MB\n",
            "Missing values before preprocessing:\n",
            " Name                            0\n",
            "Age                             0\n",
            "Marital Status                  0\n",
            "Education Level                 0\n",
            "Number of Children              0\n",
            "Smoking Status                  0\n",
            "Physical Activity Level         0\n",
            "Employment Status               0\n",
            "Income                          0\n",
            "Alcohol Consumption             0\n",
            "Dietary Habits                  0\n",
            "Sleep Patterns                  0\n",
            "History of Mental Illness       0\n",
            "History of Substance Abuse      0\n",
            "Family History of Depression    0\n",
            "Chronic Medical Conditions      0\n",
            "dtype: int64\n",
            "               Name  Age Marital Status    Education Level  \\\n",
            "0  Christine Barker   31        Married  Bachelor's Degree   \n",
            "1  Jacqueline Lewis   55        Married        High School   \n",
            "2    Shannon Church   78        Widowed    Master's Degree   \n",
            "3    Charles Jordan   58       Divorced    Master's Degree   \n",
            "4      Michael Rich   18         Single        High School   \n",
            "\n",
            "   Number of Children Smoking Status Physical Activity Level  \\\n",
            "0                   2     Non-smoker                  Active   \n",
            "1                   1     Non-smoker               Sedentary   \n",
            "2                   1     Non-smoker               Sedentary   \n",
            "3                   3     Non-smoker                Moderate   \n",
            "4                   0     Non-smoker               Sedentary   \n",
            "\n",
            "  Employment Status     Income Alcohol Consumption Dietary Habits  \\\n",
            "0        Unemployed   26265.67            Moderate       Moderate   \n",
            "1          Employed   42710.36                High      Unhealthy   \n",
            "2          Employed  125332.79                 Low      Unhealthy   \n",
            "3        Unemployed    9992.78            Moderate       Moderate   \n",
            "4        Unemployed    8595.08                 Low       Moderate   \n",
            "\n",
            "  Sleep Patterns History of Mental Illness History of Substance Abuse  \\\n",
            "0           Fair                       Yes                         No   \n",
            "1           Fair                       Yes                         No   \n",
            "2           Good                        No                         No   \n",
            "3           Poor                        No                         No   \n",
            "4           Fair                       Yes                         No   \n",
            "\n",
            "  Family History of Depression Chronic Medical Conditions salary_category  \\\n",
            "0                          Yes                        Yes               1   \n",
            "1                           No                        Yes               1   \n",
            "2                          Yes                         No               2   \n",
            "3                           No                         No               0   \n",
            "4                          Yes                        Yes               0   \n",
            "\n",
            "  age_category  \n",
            "0            0  \n",
            "1            1  \n",
            "2            2  \n",
            "3            1  \n",
            "4            0  \n"
          ]
        }
      ],
      "source": [
        "df = pd.read_csv('depression_data.csv')\n",
        "print(df.head())\n",
        "\n",
        "# Check for basic information about the dataset\n",
        "df.info()\n",
        "\n",
        "# Get basic statistics for numerical columns\n",
        "df.describe()\n",
        "\n",
        "# Check for missing values\n",
        "print(\"Missing values before preprocessing:\\n\", df.isnull().sum())\n",
        "from sklearn.preprocessing import MinMaxScaler\n",
        "df_dp = pd.DataFrame(df)\n",
        "\n",
        "# Initialize the Min-Max scaler\n",
        "scaler = MinMaxScaler()\n",
        "\n",
        "# Scale the 'income' column\n",
        "# df_dp['scaled_income'] = scaler.fit_transform(df_dp[['Income']])\n",
        "# print(df_dp['scaled_income'])\n",
        "\n",
        "df_dp['salary_category'] = pd.qcut(df['Income'], q=3, labels=[0, 1, 2])\n",
        "df_dp['age_category'] = pd.qcut(df['Age'], q=3, labels=[0, 1, 2])\n",
        "\n",
        "\n",
        "print(df_dp.head())\n"
      ]
    },
    {
      "cell_type": "code",
      "execution_count": 178,
      "metadata": {
        "id": "efCZDVt8dnCA"
      },
      "outputs": [],
      "source": [
        "X = df_dp.drop(columns=['Name', 'History of Mental Illness', 'Income', 'Age']) # Features\n",
        "y = df_dp['History of Mental Illness']  # Target variable\n",
        "\n",
        "# Label encode the target variable\n",
        "label_encoder = LabelEncoder()\n",
        "y = label_encoder.fit_transform(df_dp['History of Mental Illness'])  # 'Yes' -> 1, 'No' -> 0\n",
        "\n",
        "# Train-test split\n",
        "X_train, X_test, y_train, y_test = train_test_split(X, y, test_size=0.2, random_state=23382593 )\n",
        "# Identify categorical and numerical features\n",
        "categorical_features = X.select_dtypes(include=['object']).columns.tolist()\n",
        "numerical_features = X.select_dtypes(exclude=['object']).columns.tolist()\n",
        "\n",
        "\n",
        "# Create a preprocessor with OneHotEncoder for categorical features and StandardScaler for numerical features\n",
        "preprocessor = ColumnTransformer(\n",
        "    transformers=[\n",
        "        ('num', Pipeline(steps=[('imputer', SimpleImputer(strategy='median')),\n",
        "                                ('scaler', StandardScaler())]), numerical_features),\n",
        "        ('cat', Pipeline(steps=[('imputer', SimpleImputer(strategy='most_frequent')),\n",
        "                                ('onehot', OneHotEncoder(handle_unknown='ignore'))]), categorical_features)\n",
        "    ])"
      ]
    },
    {
      "cell_type": "code",
      "source": [
        "# Compute class weights to address class imbalance\n",
        "class_weights = compute_class_weight('balanced', classes=np.unique(y), y=y)\n",
        "class_weight_dict = dict(zip(np.unique(y), class_weights))"
      ],
      "metadata": {
        "id": "vPRDcqeD4Z3O"
      },
      "execution_count": 179,
      "outputs": []
    },
    {
      "cell_type": "code",
      "execution_count": 180,
      "metadata": {
        "id": "vItuloL5eIeT"
      },
      "outputs": [],
      "source": [
        "\n",
        "# Create a pipeline with preprocessor and model\n",
        "pipeline = Pipeline(steps=[('preprocessor', preprocessor),\n",
        "                           ('classifier', RandomForestClassifier(random_state= 23382593, class_weight=class_weight_dict))])\n"
      ]
    },
    {
      "cell_type": "code",
      "execution_count": 181,
      "metadata": {
        "colab": {
          "base_uri": "https://localhost:8080/",
          "height": 258
        },
        "id": "sebB0mKKeRLX",
        "outputId": "eddfc8bf-d29b-4107-ccbe-f7e8388078cc"
      },
      "outputs": [
        {
          "output_type": "execute_result",
          "data": {
            "text/plain": [
              "Pipeline(steps=[('preprocessor',\n",
              "                 ColumnTransformer(transformers=[('num',\n",
              "                                                  Pipeline(steps=[('imputer',\n",
              "                                                                   SimpleImputer(strategy='median')),\n",
              "                                                                  ('scaler',\n",
              "                                                                   StandardScaler())]),\n",
              "                                                  ['Number of Children',\n",
              "                                                   'salary_category',\n",
              "                                                   'age_category']),\n",
              "                                                 ('cat',\n",
              "                                                  Pipeline(steps=[('imputer',\n",
              "                                                                   SimpleImputer(strategy='most_frequent')),\n",
              "                                                                  ('onehot',\n",
              "                                                                   OneHotEncoder(handle_unknown='ignore'))]),\n",
              "                                                  ['Marital Status',\n",
              "                                                   'Education Level',\n",
              "                                                   'Smoking Status',\n",
              "                                                   'Physical Activity Level',\n",
              "                                                   'Employment Status',\n",
              "                                                   'Alcohol Consumption',\n",
              "                                                   'Dietary Habits',\n",
              "                                                   'Sleep Patterns',\n",
              "                                                   'History of Substance Abuse',\n",
              "                                                   'Family History of '\n",
              "                                                   'Depression',\n",
              "                                                   'Chronic Medical '\n",
              "                                                   'Conditions'])])),\n",
              "                ('classifier',\n",
              "                 RandomForestClassifier(class_weight={0: 0.7169730348329876,\n",
              "                                                      1: 1.6522169111587275},\n",
              "                                        random_state=23382593))])"
            ],
            "text/html": [
              "<style>#sk-container-id-7 {\n",
              "  /* Definition of color scheme common for light and dark mode */\n",
              "  --sklearn-color-text: black;\n",
              "  --sklearn-color-line: gray;\n",
              "  /* Definition of color scheme for unfitted estimators */\n",
              "  --sklearn-color-unfitted-level-0: #fff5e6;\n",
              "  --sklearn-color-unfitted-level-1: #f6e4d2;\n",
              "  --sklearn-color-unfitted-level-2: #ffe0b3;\n",
              "  --sklearn-color-unfitted-level-3: chocolate;\n",
              "  /* Definition of color scheme for fitted estimators */\n",
              "  --sklearn-color-fitted-level-0: #f0f8ff;\n",
              "  --sklearn-color-fitted-level-1: #d4ebff;\n",
              "  --sklearn-color-fitted-level-2: #b3dbfd;\n",
              "  --sklearn-color-fitted-level-3: cornflowerblue;\n",
              "\n",
              "  /* Specific color for light theme */\n",
              "  --sklearn-color-text-on-default-background: var(--sg-text-color, var(--theme-code-foreground, var(--jp-content-font-color1, black)));\n",
              "  --sklearn-color-background: var(--sg-background-color, var(--theme-background, var(--jp-layout-color0, white)));\n",
              "  --sklearn-color-border-box: var(--sg-text-color, var(--theme-code-foreground, var(--jp-content-font-color1, black)));\n",
              "  --sklearn-color-icon: #696969;\n",
              "\n",
              "  @media (prefers-color-scheme: dark) {\n",
              "    /* Redefinition of color scheme for dark theme */\n",
              "    --sklearn-color-text-on-default-background: var(--sg-text-color, var(--theme-code-foreground, var(--jp-content-font-color1, white)));\n",
              "    --sklearn-color-background: var(--sg-background-color, var(--theme-background, var(--jp-layout-color0, #111)));\n",
              "    --sklearn-color-border-box: var(--sg-text-color, var(--theme-code-foreground, var(--jp-content-font-color1, white)));\n",
              "    --sklearn-color-icon: #878787;\n",
              "  }\n",
              "}\n",
              "\n",
              "#sk-container-id-7 {\n",
              "  color: var(--sklearn-color-text);\n",
              "}\n",
              "\n",
              "#sk-container-id-7 pre {\n",
              "  padding: 0;\n",
              "}\n",
              "\n",
              "#sk-container-id-7 input.sk-hidden--visually {\n",
              "  border: 0;\n",
              "  clip: rect(1px 1px 1px 1px);\n",
              "  clip: rect(1px, 1px, 1px, 1px);\n",
              "  height: 1px;\n",
              "  margin: -1px;\n",
              "  overflow: hidden;\n",
              "  padding: 0;\n",
              "  position: absolute;\n",
              "  width: 1px;\n",
              "}\n",
              "\n",
              "#sk-container-id-7 div.sk-dashed-wrapped {\n",
              "  border: 1px dashed var(--sklearn-color-line);\n",
              "  margin: 0 0.4em 0.5em 0.4em;\n",
              "  box-sizing: border-box;\n",
              "  padding-bottom: 0.4em;\n",
              "  background-color: var(--sklearn-color-background);\n",
              "}\n",
              "\n",
              "#sk-container-id-7 div.sk-container {\n",
              "  /* jupyter's `normalize.less` sets `[hidden] { display: none; }`\n",
              "     but bootstrap.min.css set `[hidden] { display: none !important; }`\n",
              "     so we also need the `!important` here to be able to override the\n",
              "     default hidden behavior on the sphinx rendered scikit-learn.org.\n",
              "     See: https://github.com/scikit-learn/scikit-learn/issues/21755 */\n",
              "  display: inline-block !important;\n",
              "  position: relative;\n",
              "}\n",
              "\n",
              "#sk-container-id-7 div.sk-text-repr-fallback {\n",
              "  display: none;\n",
              "}\n",
              "\n",
              "div.sk-parallel-item,\n",
              "div.sk-serial,\n",
              "div.sk-item {\n",
              "  /* draw centered vertical line to link estimators */\n",
              "  background-image: linear-gradient(var(--sklearn-color-text-on-default-background), var(--sklearn-color-text-on-default-background));\n",
              "  background-size: 2px 100%;\n",
              "  background-repeat: no-repeat;\n",
              "  background-position: center center;\n",
              "}\n",
              "\n",
              "/* Parallel-specific style estimator block */\n",
              "\n",
              "#sk-container-id-7 div.sk-parallel-item::after {\n",
              "  content: \"\";\n",
              "  width: 100%;\n",
              "  border-bottom: 2px solid var(--sklearn-color-text-on-default-background);\n",
              "  flex-grow: 1;\n",
              "}\n",
              "\n",
              "#sk-container-id-7 div.sk-parallel {\n",
              "  display: flex;\n",
              "  align-items: stretch;\n",
              "  justify-content: center;\n",
              "  background-color: var(--sklearn-color-background);\n",
              "  position: relative;\n",
              "}\n",
              "\n",
              "#sk-container-id-7 div.sk-parallel-item {\n",
              "  display: flex;\n",
              "  flex-direction: column;\n",
              "}\n",
              "\n",
              "#sk-container-id-7 div.sk-parallel-item:first-child::after {\n",
              "  align-self: flex-end;\n",
              "  width: 50%;\n",
              "}\n",
              "\n",
              "#sk-container-id-7 div.sk-parallel-item:last-child::after {\n",
              "  align-self: flex-start;\n",
              "  width: 50%;\n",
              "}\n",
              "\n",
              "#sk-container-id-7 div.sk-parallel-item:only-child::after {\n",
              "  width: 0;\n",
              "}\n",
              "\n",
              "/* Serial-specific style estimator block */\n",
              "\n",
              "#sk-container-id-7 div.sk-serial {\n",
              "  display: flex;\n",
              "  flex-direction: column;\n",
              "  align-items: center;\n",
              "  background-color: var(--sklearn-color-background);\n",
              "  padding-right: 1em;\n",
              "  padding-left: 1em;\n",
              "}\n",
              "\n",
              "\n",
              "/* Toggleable style: style used for estimator/Pipeline/ColumnTransformer box that is\n",
              "clickable and can be expanded/collapsed.\n",
              "- Pipeline and ColumnTransformer use this feature and define the default style\n",
              "- Estimators will overwrite some part of the style using the `sk-estimator` class\n",
              "*/\n",
              "\n",
              "/* Pipeline and ColumnTransformer style (default) */\n",
              "\n",
              "#sk-container-id-7 div.sk-toggleable {\n",
              "  /* Default theme specific background. It is overwritten whether we have a\n",
              "  specific estimator or a Pipeline/ColumnTransformer */\n",
              "  background-color: var(--sklearn-color-background);\n",
              "}\n",
              "\n",
              "/* Toggleable label */\n",
              "#sk-container-id-7 label.sk-toggleable__label {\n",
              "  cursor: pointer;\n",
              "  display: block;\n",
              "  width: 100%;\n",
              "  margin-bottom: 0;\n",
              "  padding: 0.5em;\n",
              "  box-sizing: border-box;\n",
              "  text-align: center;\n",
              "}\n",
              "\n",
              "#sk-container-id-7 label.sk-toggleable__label-arrow:before {\n",
              "  /* Arrow on the left of the label */\n",
              "  content: \"▸\";\n",
              "  float: left;\n",
              "  margin-right: 0.25em;\n",
              "  color: var(--sklearn-color-icon);\n",
              "}\n",
              "\n",
              "#sk-container-id-7 label.sk-toggleable__label-arrow:hover:before {\n",
              "  color: var(--sklearn-color-text);\n",
              "}\n",
              "\n",
              "/* Toggleable content - dropdown */\n",
              "\n",
              "#sk-container-id-7 div.sk-toggleable__content {\n",
              "  max-height: 0;\n",
              "  max-width: 0;\n",
              "  overflow: hidden;\n",
              "  text-align: left;\n",
              "  /* unfitted */\n",
              "  background-color: var(--sklearn-color-unfitted-level-0);\n",
              "}\n",
              "\n",
              "#sk-container-id-7 div.sk-toggleable__content.fitted {\n",
              "  /* fitted */\n",
              "  background-color: var(--sklearn-color-fitted-level-0);\n",
              "}\n",
              "\n",
              "#sk-container-id-7 div.sk-toggleable__content pre {\n",
              "  margin: 0.2em;\n",
              "  border-radius: 0.25em;\n",
              "  color: var(--sklearn-color-text);\n",
              "  /* unfitted */\n",
              "  background-color: var(--sklearn-color-unfitted-level-0);\n",
              "}\n",
              "\n",
              "#sk-container-id-7 div.sk-toggleable__content.fitted pre {\n",
              "  /* unfitted */\n",
              "  background-color: var(--sklearn-color-fitted-level-0);\n",
              "}\n",
              "\n",
              "#sk-container-id-7 input.sk-toggleable__control:checked~div.sk-toggleable__content {\n",
              "  /* Expand drop-down */\n",
              "  max-height: 200px;\n",
              "  max-width: 100%;\n",
              "  overflow: auto;\n",
              "}\n",
              "\n",
              "#sk-container-id-7 input.sk-toggleable__control:checked~label.sk-toggleable__label-arrow:before {\n",
              "  content: \"▾\";\n",
              "}\n",
              "\n",
              "/* Pipeline/ColumnTransformer-specific style */\n",
              "\n",
              "#sk-container-id-7 div.sk-label input.sk-toggleable__control:checked~label.sk-toggleable__label {\n",
              "  color: var(--sklearn-color-text);\n",
              "  background-color: var(--sklearn-color-unfitted-level-2);\n",
              "}\n",
              "\n",
              "#sk-container-id-7 div.sk-label.fitted input.sk-toggleable__control:checked~label.sk-toggleable__label {\n",
              "  background-color: var(--sklearn-color-fitted-level-2);\n",
              "}\n",
              "\n",
              "/* Estimator-specific style */\n",
              "\n",
              "/* Colorize estimator box */\n",
              "#sk-container-id-7 div.sk-estimator input.sk-toggleable__control:checked~label.sk-toggleable__label {\n",
              "  /* unfitted */\n",
              "  background-color: var(--sklearn-color-unfitted-level-2);\n",
              "}\n",
              "\n",
              "#sk-container-id-7 div.sk-estimator.fitted input.sk-toggleable__control:checked~label.sk-toggleable__label {\n",
              "  /* fitted */\n",
              "  background-color: var(--sklearn-color-fitted-level-2);\n",
              "}\n",
              "\n",
              "#sk-container-id-7 div.sk-label label.sk-toggleable__label,\n",
              "#sk-container-id-7 div.sk-label label {\n",
              "  /* The background is the default theme color */\n",
              "  color: var(--sklearn-color-text-on-default-background);\n",
              "}\n",
              "\n",
              "/* On hover, darken the color of the background */\n",
              "#sk-container-id-7 div.sk-label:hover label.sk-toggleable__label {\n",
              "  color: var(--sklearn-color-text);\n",
              "  background-color: var(--sklearn-color-unfitted-level-2);\n",
              "}\n",
              "\n",
              "/* Label box, darken color on hover, fitted */\n",
              "#sk-container-id-7 div.sk-label.fitted:hover label.sk-toggleable__label.fitted {\n",
              "  color: var(--sklearn-color-text);\n",
              "  background-color: var(--sklearn-color-fitted-level-2);\n",
              "}\n",
              "\n",
              "/* Estimator label */\n",
              "\n",
              "#sk-container-id-7 div.sk-label label {\n",
              "  font-family: monospace;\n",
              "  font-weight: bold;\n",
              "  display: inline-block;\n",
              "  line-height: 1.2em;\n",
              "}\n",
              "\n",
              "#sk-container-id-7 div.sk-label-container {\n",
              "  text-align: center;\n",
              "}\n",
              "\n",
              "/* Estimator-specific */\n",
              "#sk-container-id-7 div.sk-estimator {\n",
              "  font-family: monospace;\n",
              "  border: 1px dotted var(--sklearn-color-border-box);\n",
              "  border-radius: 0.25em;\n",
              "  box-sizing: border-box;\n",
              "  margin-bottom: 0.5em;\n",
              "  /* unfitted */\n",
              "  background-color: var(--sklearn-color-unfitted-level-0);\n",
              "}\n",
              "\n",
              "#sk-container-id-7 div.sk-estimator.fitted {\n",
              "  /* fitted */\n",
              "  background-color: var(--sklearn-color-fitted-level-0);\n",
              "}\n",
              "\n",
              "/* on hover */\n",
              "#sk-container-id-7 div.sk-estimator:hover {\n",
              "  /* unfitted */\n",
              "  background-color: var(--sklearn-color-unfitted-level-2);\n",
              "}\n",
              "\n",
              "#sk-container-id-7 div.sk-estimator.fitted:hover {\n",
              "  /* fitted */\n",
              "  background-color: var(--sklearn-color-fitted-level-2);\n",
              "}\n",
              "\n",
              "/* Specification for estimator info (e.g. \"i\" and \"?\") */\n",
              "\n",
              "/* Common style for \"i\" and \"?\" */\n",
              "\n",
              ".sk-estimator-doc-link,\n",
              "a:link.sk-estimator-doc-link,\n",
              "a:visited.sk-estimator-doc-link {\n",
              "  float: right;\n",
              "  font-size: smaller;\n",
              "  line-height: 1em;\n",
              "  font-family: monospace;\n",
              "  background-color: var(--sklearn-color-background);\n",
              "  border-radius: 1em;\n",
              "  height: 1em;\n",
              "  width: 1em;\n",
              "  text-decoration: none !important;\n",
              "  margin-left: 1ex;\n",
              "  /* unfitted */\n",
              "  border: var(--sklearn-color-unfitted-level-1) 1pt solid;\n",
              "  color: var(--sklearn-color-unfitted-level-1);\n",
              "}\n",
              "\n",
              ".sk-estimator-doc-link.fitted,\n",
              "a:link.sk-estimator-doc-link.fitted,\n",
              "a:visited.sk-estimator-doc-link.fitted {\n",
              "  /* fitted */\n",
              "  border: var(--sklearn-color-fitted-level-1) 1pt solid;\n",
              "  color: var(--sklearn-color-fitted-level-1);\n",
              "}\n",
              "\n",
              "/* On hover */\n",
              "div.sk-estimator:hover .sk-estimator-doc-link:hover,\n",
              ".sk-estimator-doc-link:hover,\n",
              "div.sk-label-container:hover .sk-estimator-doc-link:hover,\n",
              ".sk-estimator-doc-link:hover {\n",
              "  /* unfitted */\n",
              "  background-color: var(--sklearn-color-unfitted-level-3);\n",
              "  color: var(--sklearn-color-background);\n",
              "  text-decoration: none;\n",
              "}\n",
              "\n",
              "div.sk-estimator.fitted:hover .sk-estimator-doc-link.fitted:hover,\n",
              ".sk-estimator-doc-link.fitted:hover,\n",
              "div.sk-label-container:hover .sk-estimator-doc-link.fitted:hover,\n",
              ".sk-estimator-doc-link.fitted:hover {\n",
              "  /* fitted */\n",
              "  background-color: var(--sklearn-color-fitted-level-3);\n",
              "  color: var(--sklearn-color-background);\n",
              "  text-decoration: none;\n",
              "}\n",
              "\n",
              "/* Span, style for the box shown on hovering the info icon */\n",
              ".sk-estimator-doc-link span {\n",
              "  display: none;\n",
              "  z-index: 9999;\n",
              "  position: relative;\n",
              "  font-weight: normal;\n",
              "  right: .2ex;\n",
              "  padding: .5ex;\n",
              "  margin: .5ex;\n",
              "  width: min-content;\n",
              "  min-width: 20ex;\n",
              "  max-width: 50ex;\n",
              "  color: var(--sklearn-color-text);\n",
              "  box-shadow: 2pt 2pt 4pt #999;\n",
              "  /* unfitted */\n",
              "  background: var(--sklearn-color-unfitted-level-0);\n",
              "  border: .5pt solid var(--sklearn-color-unfitted-level-3);\n",
              "}\n",
              "\n",
              ".sk-estimator-doc-link.fitted span {\n",
              "  /* fitted */\n",
              "  background: var(--sklearn-color-fitted-level-0);\n",
              "  border: var(--sklearn-color-fitted-level-3);\n",
              "}\n",
              "\n",
              ".sk-estimator-doc-link:hover span {\n",
              "  display: block;\n",
              "}\n",
              "\n",
              "/* \"?\"-specific style due to the `<a>` HTML tag */\n",
              "\n",
              "#sk-container-id-7 a.estimator_doc_link {\n",
              "  float: right;\n",
              "  font-size: 1rem;\n",
              "  line-height: 1em;\n",
              "  font-family: monospace;\n",
              "  background-color: var(--sklearn-color-background);\n",
              "  border-radius: 1rem;\n",
              "  height: 1rem;\n",
              "  width: 1rem;\n",
              "  text-decoration: none;\n",
              "  /* unfitted */\n",
              "  color: var(--sklearn-color-unfitted-level-1);\n",
              "  border: var(--sklearn-color-unfitted-level-1) 1pt solid;\n",
              "}\n",
              "\n",
              "#sk-container-id-7 a.estimator_doc_link.fitted {\n",
              "  /* fitted */\n",
              "  border: var(--sklearn-color-fitted-level-1) 1pt solid;\n",
              "  color: var(--sklearn-color-fitted-level-1);\n",
              "}\n",
              "\n",
              "/* On hover */\n",
              "#sk-container-id-7 a.estimator_doc_link:hover {\n",
              "  /* unfitted */\n",
              "  background-color: var(--sklearn-color-unfitted-level-3);\n",
              "  color: var(--sklearn-color-background);\n",
              "  text-decoration: none;\n",
              "}\n",
              "\n",
              "#sk-container-id-7 a.estimator_doc_link.fitted:hover {\n",
              "  /* fitted */\n",
              "  background-color: var(--sklearn-color-fitted-level-3);\n",
              "}\n",
              "</style><div id=\"sk-container-id-7\" class=\"sk-top-container\"><div class=\"sk-text-repr-fallback\"><pre>Pipeline(steps=[(&#x27;preprocessor&#x27;,\n",
              "                 ColumnTransformer(transformers=[(&#x27;num&#x27;,\n",
              "                                                  Pipeline(steps=[(&#x27;imputer&#x27;,\n",
              "                                                                   SimpleImputer(strategy=&#x27;median&#x27;)),\n",
              "                                                                  (&#x27;scaler&#x27;,\n",
              "                                                                   StandardScaler())]),\n",
              "                                                  [&#x27;Number of Children&#x27;,\n",
              "                                                   &#x27;salary_category&#x27;,\n",
              "                                                   &#x27;age_category&#x27;]),\n",
              "                                                 (&#x27;cat&#x27;,\n",
              "                                                  Pipeline(steps=[(&#x27;imputer&#x27;,\n",
              "                                                                   SimpleImputer(strategy=&#x27;most_frequent&#x27;)),\n",
              "                                                                  (&#x27;onehot&#x27;,\n",
              "                                                                   OneHotEncoder(handle_unknown=&#x27;ignore&#x27;))]),\n",
              "                                                  [&#x27;Marital Status&#x27;,\n",
              "                                                   &#x27;Education Level&#x27;,\n",
              "                                                   &#x27;Smoking Status&#x27;,\n",
              "                                                   &#x27;Physical Activity Level&#x27;,\n",
              "                                                   &#x27;Employment Status&#x27;,\n",
              "                                                   &#x27;Alcohol Consumption&#x27;,\n",
              "                                                   &#x27;Dietary Habits&#x27;,\n",
              "                                                   &#x27;Sleep Patterns&#x27;,\n",
              "                                                   &#x27;History of Substance Abuse&#x27;,\n",
              "                                                   &#x27;Family History of &#x27;\n",
              "                                                   &#x27;Depression&#x27;,\n",
              "                                                   &#x27;Chronic Medical &#x27;\n",
              "                                                   &#x27;Conditions&#x27;])])),\n",
              "                (&#x27;classifier&#x27;,\n",
              "                 RandomForestClassifier(class_weight={0: 0.7169730348329876,\n",
              "                                                      1: 1.6522169111587275},\n",
              "                                        random_state=23382593))])</pre><b>In a Jupyter environment, please rerun this cell to show the HTML representation or trust the notebook. <br />On GitHub, the HTML representation is unable to render, please try loading this page with nbviewer.org.</b></div><div class=\"sk-container\" hidden><div class=\"sk-item sk-dashed-wrapped\"><div class=\"sk-label-container\"><div class=\"sk-label fitted sk-toggleable\"><input class=\"sk-toggleable__control sk-hidden--visually\" id=\"sk-estimator-id-55\" type=\"checkbox\" ><label for=\"sk-estimator-id-55\" class=\"sk-toggleable__label fitted sk-toggleable__label-arrow fitted\">&nbsp;&nbsp;Pipeline<a class=\"sk-estimator-doc-link fitted\" rel=\"noreferrer\" target=\"_blank\" href=\"https://scikit-learn.org/1.5/modules/generated/sklearn.pipeline.Pipeline.html\">?<span>Documentation for Pipeline</span></a><span class=\"sk-estimator-doc-link fitted\">i<span>Fitted</span></span></label><div class=\"sk-toggleable__content fitted\"><pre>Pipeline(steps=[(&#x27;preprocessor&#x27;,\n",
              "                 ColumnTransformer(transformers=[(&#x27;num&#x27;,\n",
              "                                                  Pipeline(steps=[(&#x27;imputer&#x27;,\n",
              "                                                                   SimpleImputer(strategy=&#x27;median&#x27;)),\n",
              "                                                                  (&#x27;scaler&#x27;,\n",
              "                                                                   StandardScaler())]),\n",
              "                                                  [&#x27;Number of Children&#x27;,\n",
              "                                                   &#x27;salary_category&#x27;,\n",
              "                                                   &#x27;age_category&#x27;]),\n",
              "                                                 (&#x27;cat&#x27;,\n",
              "                                                  Pipeline(steps=[(&#x27;imputer&#x27;,\n",
              "                                                                   SimpleImputer(strategy=&#x27;most_frequent&#x27;)),\n",
              "                                                                  (&#x27;onehot&#x27;,\n",
              "                                                                   OneHotEncoder(handle_unknown=&#x27;ignore&#x27;))]),\n",
              "                                                  [&#x27;Marital Status&#x27;,\n",
              "                                                   &#x27;Education Level&#x27;,\n",
              "                                                   &#x27;Smoking Status&#x27;,\n",
              "                                                   &#x27;Physical Activity Level&#x27;,\n",
              "                                                   &#x27;Employment Status&#x27;,\n",
              "                                                   &#x27;Alcohol Consumption&#x27;,\n",
              "                                                   &#x27;Dietary Habits&#x27;,\n",
              "                                                   &#x27;Sleep Patterns&#x27;,\n",
              "                                                   &#x27;History of Substance Abuse&#x27;,\n",
              "                                                   &#x27;Family History of &#x27;\n",
              "                                                   &#x27;Depression&#x27;,\n",
              "                                                   &#x27;Chronic Medical &#x27;\n",
              "                                                   &#x27;Conditions&#x27;])])),\n",
              "                (&#x27;classifier&#x27;,\n",
              "                 RandomForestClassifier(class_weight={0: 0.7169730348329876,\n",
              "                                                      1: 1.6522169111587275},\n",
              "                                        random_state=23382593))])</pre></div> </div></div><div class=\"sk-serial\"><div class=\"sk-item sk-dashed-wrapped\"><div class=\"sk-label-container\"><div class=\"sk-label fitted sk-toggleable\"><input class=\"sk-toggleable__control sk-hidden--visually\" id=\"sk-estimator-id-56\" type=\"checkbox\" ><label for=\"sk-estimator-id-56\" class=\"sk-toggleable__label fitted sk-toggleable__label-arrow fitted\">&nbsp;preprocessor: ColumnTransformer<a class=\"sk-estimator-doc-link fitted\" rel=\"noreferrer\" target=\"_blank\" href=\"https://scikit-learn.org/1.5/modules/generated/sklearn.compose.ColumnTransformer.html\">?<span>Documentation for preprocessor: ColumnTransformer</span></a></label><div class=\"sk-toggleable__content fitted\"><pre>ColumnTransformer(transformers=[(&#x27;num&#x27;,\n",
              "                                 Pipeline(steps=[(&#x27;imputer&#x27;,\n",
              "                                                  SimpleImputer(strategy=&#x27;median&#x27;)),\n",
              "                                                 (&#x27;scaler&#x27;, StandardScaler())]),\n",
              "                                 [&#x27;Number of Children&#x27;, &#x27;salary_category&#x27;,\n",
              "                                  &#x27;age_category&#x27;]),\n",
              "                                (&#x27;cat&#x27;,\n",
              "                                 Pipeline(steps=[(&#x27;imputer&#x27;,\n",
              "                                                  SimpleImputer(strategy=&#x27;most_frequent&#x27;)),\n",
              "                                                 (&#x27;onehot&#x27;,\n",
              "                                                  OneHotEncoder(handle_unknown=&#x27;ignore&#x27;))]),\n",
              "                                 [&#x27;Marital Status&#x27;, &#x27;Education Level&#x27;,\n",
              "                                  &#x27;Smoking Status&#x27;, &#x27;Physical Activity Level&#x27;,\n",
              "                                  &#x27;Employment Status&#x27;, &#x27;Alcohol Consumption&#x27;,\n",
              "                                  &#x27;Dietary Habits&#x27;, &#x27;Sleep Patterns&#x27;,\n",
              "                                  &#x27;History of Substance Abuse&#x27;,\n",
              "                                  &#x27;Family History of Depression&#x27;,\n",
              "                                  &#x27;Chronic Medical Conditions&#x27;])])</pre></div> </div></div><div class=\"sk-parallel\"><div class=\"sk-parallel-item\"><div class=\"sk-item\"><div class=\"sk-label-container\"><div class=\"sk-label fitted sk-toggleable\"><input class=\"sk-toggleable__control sk-hidden--visually\" id=\"sk-estimator-id-57\" type=\"checkbox\" ><label for=\"sk-estimator-id-57\" class=\"sk-toggleable__label fitted sk-toggleable__label-arrow fitted\">num</label><div class=\"sk-toggleable__content fitted\"><pre>[&#x27;Number of Children&#x27;, &#x27;salary_category&#x27;, &#x27;age_category&#x27;]</pre></div> </div></div><div class=\"sk-serial\"><div class=\"sk-item\"><div class=\"sk-serial\"><div class=\"sk-item\"><div class=\"sk-estimator fitted sk-toggleable\"><input class=\"sk-toggleable__control sk-hidden--visually\" id=\"sk-estimator-id-58\" type=\"checkbox\" ><label for=\"sk-estimator-id-58\" class=\"sk-toggleable__label fitted sk-toggleable__label-arrow fitted\">&nbsp;SimpleImputer<a class=\"sk-estimator-doc-link fitted\" rel=\"noreferrer\" target=\"_blank\" href=\"https://scikit-learn.org/1.5/modules/generated/sklearn.impute.SimpleImputer.html\">?<span>Documentation for SimpleImputer</span></a></label><div class=\"sk-toggleable__content fitted\"><pre>SimpleImputer(strategy=&#x27;median&#x27;)</pre></div> </div></div><div class=\"sk-item\"><div class=\"sk-estimator fitted sk-toggleable\"><input class=\"sk-toggleable__control sk-hidden--visually\" id=\"sk-estimator-id-59\" type=\"checkbox\" ><label for=\"sk-estimator-id-59\" class=\"sk-toggleable__label fitted sk-toggleable__label-arrow fitted\">&nbsp;StandardScaler<a class=\"sk-estimator-doc-link fitted\" rel=\"noreferrer\" target=\"_blank\" href=\"https://scikit-learn.org/1.5/modules/generated/sklearn.preprocessing.StandardScaler.html\">?<span>Documentation for StandardScaler</span></a></label><div class=\"sk-toggleable__content fitted\"><pre>StandardScaler()</pre></div> </div></div></div></div></div></div></div><div class=\"sk-parallel-item\"><div class=\"sk-item\"><div class=\"sk-label-container\"><div class=\"sk-label fitted sk-toggleable\"><input class=\"sk-toggleable__control sk-hidden--visually\" id=\"sk-estimator-id-60\" type=\"checkbox\" ><label for=\"sk-estimator-id-60\" class=\"sk-toggleable__label fitted sk-toggleable__label-arrow fitted\">cat</label><div class=\"sk-toggleable__content fitted\"><pre>[&#x27;Marital Status&#x27;, &#x27;Education Level&#x27;, &#x27;Smoking Status&#x27;, &#x27;Physical Activity Level&#x27;, &#x27;Employment Status&#x27;, &#x27;Alcohol Consumption&#x27;, &#x27;Dietary Habits&#x27;, &#x27;Sleep Patterns&#x27;, &#x27;History of Substance Abuse&#x27;, &#x27;Family History of Depression&#x27;, &#x27;Chronic Medical Conditions&#x27;]</pre></div> </div></div><div class=\"sk-serial\"><div class=\"sk-item\"><div class=\"sk-serial\"><div class=\"sk-item\"><div class=\"sk-estimator fitted sk-toggleable\"><input class=\"sk-toggleable__control sk-hidden--visually\" id=\"sk-estimator-id-61\" type=\"checkbox\" ><label for=\"sk-estimator-id-61\" class=\"sk-toggleable__label fitted sk-toggleable__label-arrow fitted\">&nbsp;SimpleImputer<a class=\"sk-estimator-doc-link fitted\" rel=\"noreferrer\" target=\"_blank\" href=\"https://scikit-learn.org/1.5/modules/generated/sklearn.impute.SimpleImputer.html\">?<span>Documentation for SimpleImputer</span></a></label><div class=\"sk-toggleable__content fitted\"><pre>SimpleImputer(strategy=&#x27;most_frequent&#x27;)</pre></div> </div></div><div class=\"sk-item\"><div class=\"sk-estimator fitted sk-toggleable\"><input class=\"sk-toggleable__control sk-hidden--visually\" id=\"sk-estimator-id-62\" type=\"checkbox\" ><label for=\"sk-estimator-id-62\" class=\"sk-toggleable__label fitted sk-toggleable__label-arrow fitted\">&nbsp;OneHotEncoder<a class=\"sk-estimator-doc-link fitted\" rel=\"noreferrer\" target=\"_blank\" href=\"https://scikit-learn.org/1.5/modules/generated/sklearn.preprocessing.OneHotEncoder.html\">?<span>Documentation for OneHotEncoder</span></a></label><div class=\"sk-toggleable__content fitted\"><pre>OneHotEncoder(handle_unknown=&#x27;ignore&#x27;)</pre></div> </div></div></div></div></div></div></div></div></div><div class=\"sk-item\"><div class=\"sk-estimator fitted sk-toggleable\"><input class=\"sk-toggleable__control sk-hidden--visually\" id=\"sk-estimator-id-63\" type=\"checkbox\" ><label for=\"sk-estimator-id-63\" class=\"sk-toggleable__label fitted sk-toggleable__label-arrow fitted\">&nbsp;RandomForestClassifier<a class=\"sk-estimator-doc-link fitted\" rel=\"noreferrer\" target=\"_blank\" href=\"https://scikit-learn.org/1.5/modules/generated/sklearn.ensemble.RandomForestClassifier.html\">?<span>Documentation for RandomForestClassifier</span></a></label><div class=\"sk-toggleable__content fitted\"><pre>RandomForestClassifier(class_weight={0: 0.7169730348329876,\n",
              "                                     1: 1.6522169111587275},\n",
              "                       random_state=23382593)</pre></div> </div></div></div></div></div></div>"
            ]
          },
          "metadata": {},
          "execution_count": 181
        }
      ],
      "source": [
        "\n",
        "# Fit model\n",
        "pipeline.fit(X_train, y_train)"
      ]
    },
    {
      "cell_type": "code",
      "source": [
        "# Make predictions\n",
        "y_pred = pipeline.predict(X_test)"
      ],
      "metadata": {
        "id": "RXTpfJcjtQ2x"
      },
      "execution_count": 182,
      "outputs": []
    },
    {
      "cell_type": "code",
      "execution_count": 183,
      "metadata": {
        "colab": {
          "base_uri": "https://localhost:8080/"
        },
        "id": "DvWxTznWeiKl",
        "outputId": "5e6e9720-d57d-47ea-ad64-504246b23632"
      },
      "outputs": [
        {
          "output_type": "stream",
          "name": "stdout",
          "text": [
            "Model Accuracy: 0.66\n"
          ]
        }
      ],
      "source": [
        "# Evaluate model\n",
        "accuracy = pipeline.score(X_test, y_test)\n",
        "print(f'Model Accuracy: {accuracy:.2f}')"
      ]
    },
    {
      "cell_type": "code",
      "source": [
        "print(\"\\nClassification Report:\")\n",
        "print(classification_report(y_test, y_pred))\n"
      ],
      "metadata": {
        "colab": {
          "base_uri": "https://localhost:8080/"
        },
        "id": "U5lAy4j5pRFu",
        "outputId": "0bbb0e2d-82ff-46e0-a1e9-ad4c4f99da83"
      },
      "execution_count": 184,
      "outputs": [
        {
          "output_type": "stream",
          "name": "stdout",
          "text": [
            "\n",
            "Classification Report:\n",
            "              precision    recall  f1-score   support\n",
            "\n",
            "           0       0.72      0.84      0.78      2840\n",
            "           1       0.34      0.20      0.25      1170\n",
            "\n",
            "    accuracy                           0.66      4010\n",
            "   macro avg       0.53      0.52      0.51      4010\n",
            "weighted avg       0.61      0.66      0.62      4010\n",
            "\n"
          ]
        }
      ]
    },
    {
      "cell_type": "code",
      "source": [
        "# Create a smaller sample of the data for testing purposes (e.g., 10% of the dataset)\n",
        "X_sample, _, y_sample, _ = train_test_split(X, y, test_size=0.9, random_state=23382593)\n",
        "cv_scores = cross_val_score(pipeline, X_sample, y_sample, cv=cv, scoring='accuracy')\n"
      ],
      "metadata": {
        "id": "e7QsgWyZymet"
      },
      "execution_count": 185,
      "outputs": []
    },
    {
      "cell_type": "code",
      "source": [
        "print(f\"\\nCross-Validation Accuracy: Mean = {cv_scores.mean():.2f}, Std = {cv_scores.std():.2f}\")"
      ],
      "metadata": {
        "colab": {
          "base_uri": "https://localhost:8080/"
        },
        "id": "wHHS5sjVyyYF",
        "outputId": "7683d8a6-ac19-4c7d-9d2d-d49601cc7675"
      },
      "execution_count": 186,
      "outputs": [
        {
          "output_type": "stream",
          "name": "stdout",
          "text": [
            "\n",
            "Cross-Validation Accuracy: Mean = 0.68, Std = 0.01\n"
          ]
        }
      ]
    },
    {
      "cell_type": "code",
      "source": [
        "# Confusion matrix\n",
        "cm = confusion_matrix(y_test, y_pred)\n",
        "\n",
        "# Plot confusion matrix\n",
        "plt.figure(figsize=(7, 5))\n",
        "sns.heatmap(cm, annot=True, fmt='d', cmap='Blues', xticklabels=['0', '1'], yticklabels=['0', '1'])\n",
        "plt.xlabel('Predicted')\n",
        "plt.ylabel('Actual')\n",
        "plt.title('Confusion Matrix')\n",
        "plt.show()"
      ],
      "metadata": {
        "colab": {
          "base_uri": "https://localhost:8080/",
          "height": 487
        },
        "id": "8mg6NkJIzPeY",
        "outputId": "88dffb3f-a2a5-4ade-82bc-95f2280d95d9"
      },
      "execution_count": 187,
      "outputs": [
        {
          "output_type": "display_data",
          "data": {
            "text/plain": [
              "<Figure size 700x500 with 2 Axes>"
            ],
            "image/png": "[encoded data removed]"
          },
          "metadata": {}
        }
      ]
    },
    {
      "cell_type": "code",
      "execution_count": 188,
      "metadata": {
        "colab": {
          "base_uri": "https://localhost:8080/",
          "height": 593
        },
        "id": "2WmY_2rnfaX8",
        "outputId": "06371502-68c9-4802-a52c-7241d4f52808"
      },
      "outputs": [
        {
          "output_type": "stream",
          "name": "stdout",
          "text": [
            "Feature Importances:\n",
            "                          Feature  Importance\n",
            "0             Number of Children    0.132823\n",
            "2                   age_category    0.076716\n",
            "1                salary_category    0.043345\n",
            "22  Alcohol Consumption_Moderate    0.036020\n",
            "21       Alcohol Consumption_Low    0.034902\n"
          ]
        },
        {
          "output_type": "display_data",
          "data": {
            "text/plain": [
              "<Figure size 640x480 with 1 Axes>"
            ],
            "image/png": "[encoded data removed]"
          },
          "metadata": {}
        }
      ],
      "source": [
        "# Feature importance analysis\n",
        "classifier = pipeline.named_steps['classifier']\n",
        "if hasattr(classifier, 'feature_importances_'):\n",
        "    feature_importances = classifier.feature_importances_\n",
        "    feature_names = numerical_features + list(pipeline.named_steps['preprocessor'].\n",
        "                                              named_transformers_['cat'].\n",
        "                                              named_steps['onehot'].\n",
        "                                              get_feature_names_out(categorical_features))\n",
        "    feature_imp_df = pd.DataFrame({'Feature': feature_names, 'Importance': feature_importances})\n",
        "    feature_imp_df = feature_imp_df.sort_values(by='Importance', ascending=False)\n",
        "    print(\"Feature Importances:\\n\", feature_imp_df.head())\n",
        "\n",
        "    # Plot feature importance\n",
        "    sns.barplot(x='Importance', y='Feature', data=feature_imp_df.head(10))\n",
        "    plt.title('Top 10 Feature Importances')\n",
        "    plt.show()\n",
        "else:\n",
        "    print(\"Feature importance not available for the chosen classifier.\")\n"
      ]
    },
    {
      "cell_type": "markdown",
      "metadata": {
        "id": "tetXjTBKhCf2"
      },
      "source": [
        "KNN"
      ]
    },
    {
      "cell_type": "code",
      "execution_count": 189,
      "metadata": {
        "id": "WgyLQ9tphJmm"
      },
      "outputs": [],
      "source": [
        "\n",
        "from sklearn.neighbors import KNeighborsClassifier\n"
      ]
    },
    {
      "cell_type": "code",
      "execution_count": 190,
      "metadata": {
        "id": "eqh0bd3VoMwn"
      },
      "outputs": [],
      "source": [
        "\n",
        "# Fit the preprocessor on training data and transform both training and testing data\n",
        "X_train_transformed = preprocessor.fit_transform(X_train)\n",
        "X_test_transformed = preprocessor.transform(X_test)\n"
      ]
    },
    {
      "cell_type": "code",
      "source": [
        "from sklearn.metrics import accuracy_score\n",
        "import random\n",
        "\n",
        "num_features = X_train_transformed.shape[1]\n",
        "sample_size = X_train_transformed.shape[0]\n",
        "k_values = list(range(1, 70, 2))\n",
        "\n",
        "\n",
        "accuracies = []\n",
        "for k in k_values:\n",
        "    knn = KNeighborsClassifier(n_neighbors=k)\n",
        "    knn.fit(X_train_transformed, y_train)\n",
        "    y_pred = knn.predict(X_test_transformed)\n",
        "    accuracy = accuracy_score(y_test, y_pred)\n",
        "    accuracies.append(accuracy)\n",
        "\n",
        "print(\"Found all accurracy for different K values\")\n",
        "print(len(accuracies), len(k_values))"
      ],
      "metadata": {
        "colab": {
          "base_uri": "https://localhost:8080/"
        },
        "id": "8aQvVYxSETOi",
        "outputId": "ce55fa3f-3d28-4618-a4d5-313127d690f8"
      },
      "execution_count": 191,
      "outputs": [
        {
          "output_type": "stream",
          "name": "stdout",
          "text": [
            "Found all accurracy for different K values\n",
            "35 35\n"
          ]
        }
      ]
    },
    {
      "cell_type": "code",
      "execution_count": 192,
      "metadata": {
        "colab": {
          "base_uri": "https://localhost:8080/",
          "height": 564
        },
        "id": "9bHTOG2qpYQd",
        "outputId": "a94cb239-c7a9-4533-db96-151432a06f4e"
      },
      "outputs": [
        {
          "output_type": "display_data",
          "data": {
            "text/plain": [
              "<Figure size 1000x600 with 1 Axes>"
            ],
            "image/png": "[encoded data removed]"
          },
          "metadata": {}
        }
      ],
      "source": [
        "# Plotting accuracy vs. K values\n",
        "plt.figure(figsize=(10, 6))\n",
        "plt.plot(k_values, accuracies, marker='o')\n",
        "plt.title('KNN Classifier Accuracy vs. K Value')\n",
        "plt.xlabel('K Value')\n",
        "plt.ylabel('Accuracy')\n",
        "plt.xticks(k_values)\n",
        "plt.grid(True)\n",
        "plt.show()"
      ]
    },
    {
      "cell_type": "code",
      "execution_count": 193,
      "metadata": {
        "id": "MKlZ6_HTpoDu"
      },
      "outputs": [],
      "source": [
        "# Print results and find the best K value\n",
        "best_k_index = np.argmax(accuracies)\n",
        "best_k_value = k_values[best_k_index]\n",
        "best_accuracy = accuracies[best_k_index]"
      ]
    },
    {
      "cell_type": "code",
      "execution_count": 194,
      "metadata": {
        "id": "7ax5ILKMpqsp",
        "colab": {
          "base_uri": "https://localhost:8080/"
        },
        "outputId": "8d9d5b0e-9a53-433e-fea4-9fc1abceedeb"
      },
      "outputs": [
        {
          "output_type": "stream",
          "name": "stdout",
          "text": [
            "Accuracy for K=1: 0.6002\n",
            "Accuracy for K=3: 0.6322\n",
            "Accuracy for K=5: 0.6514\n",
            "Accuracy for K=7: 0.6658\n",
            "Accuracy for K=9: 0.6678\n",
            "Accuracy for K=11: 0.6800\n",
            "Accuracy for K=13: 0.6805\n",
            "Accuracy for K=15: 0.6820\n",
            "Accuracy for K=17: 0.6865\n",
            "Accuracy for K=19: 0.6915\n",
            "Accuracy for K=21: 0.6935\n",
            "Accuracy for K=23: 0.6928\n",
            "Accuracy for K=25: 0.6963\n",
            "Accuracy for K=27: 0.6980\n",
            "Accuracy for K=29: 0.6973\n",
            "Accuracy for K=31: 0.6990\n",
            "Accuracy for K=33: 0.6985\n",
            "Accuracy for K=35: 0.7007\n",
            "Accuracy for K=37: 0.6990\n",
            "Accuracy for K=39: 0.7012\n",
            "Accuracy for K=41: 0.7017\n",
            "Accuracy for K=43: 0.7030\n",
            "Accuracy for K=45: 0.7045\n",
            "Accuracy for K=47: 0.7027\n",
            "Accuracy for K=49: 0.7012\n",
            "Accuracy for K=51: 0.7017\n",
            "Accuracy for K=53: 0.7037\n",
            "Accuracy for K=55: 0.7027\n",
            "Accuracy for K=57: 0.7042\n",
            "Accuracy for K=59: 0.7035\n",
            "Accuracy for K=61: 0.7060\n",
            "Accuracy for K=63: 0.7055\n",
            "Accuracy for K=65: 0.7052\n",
            "Accuracy for K=67: 0.7065\n",
            "Accuracy for K=69: 0.7065\n",
            "\n",
            "Best K Value: 67 with Accuracy: 0.7065\n"
          ]
        }
      ],
      "source": [
        "for k, acc in zip(k_values, accuracies):\n",
        "    print(f'Accuracy for K={k}: {acc:.4f}')\n",
        "\n",
        "print(f'\\nBest K Value: {best_k_value} with Accuracy: {best_accuracy:.4f}')\n"
      ]
    },
    {
      "cell_type": "code",
      "execution_count": 195,
      "metadata": {
        "id": "tKnYA8cpqVsL",
        "colab": {
          "base_uri": "https://localhost:8080/"
        },
        "outputId": "fea4a013-dbb4-47ab-ca3c-0dea247735dc"
      },
      "outputs": [
        {
          "output_type": "stream",
          "name": "stdout",
          "text": [
            "\n",
            "Classification Report for Best Model:\n",
            "              precision    recall  f1-score   support\n",
            "\n",
            "           0       0.71      0.99      0.83      2840\n",
            "           1       0.41      0.01      0.03      1170\n",
            "\n",
            "    accuracy                           0.71      4010\n",
            "   macro avg       0.56      0.50      0.43      4010\n",
            "weighted avg       0.62      0.71      0.59      4010\n",
            "\n"
          ]
        }
      ],
      "source": [
        "# Detailed classification report for the best model\n",
        "print(\"\\nClassification Report for Best Model:\")\n",
        "best_knn = KNeighborsClassifier(n_neighbors=best_k_value)\n",
        "best_knn.fit(X_train_transformed, y_train)\n",
        "y_pred_best = best_knn.predict(X_test_transformed)\n",
        "\n",
        "print(classification_report(y_test, y_pred_best))"
      ]
    },
    {
      "cell_type": "markdown",
      "source": [
        "**knn confusion matrix**"
      ],
      "metadata": {
        "id": "4qOlWgvc0ByE"
      }
    },
    {
      "cell_type": "code",
      "source": [
        "from sklearn.metrics import confusion_matrix, ConfusionMatrixDisplay\n",
        "\n",
        "# Generate the confusion matrix\n",
        "conf_matrix = confusion_matrix(y_test, y_pred_best)\n",
        "\n",
        "# Print the confusion matrix\n",
        "print(\"Confusion Matrix:\")\n",
        "cm_display = ConfusionMatrixDisplay(confusion_matrix=conf_matrix, display_labels=np.unique(y_test))\n",
        "\n",
        "cm_display.plot(cmap='Blues', values_format='d')\n"
      ],
      "metadata": {
        "colab": {
          "base_uri": "https://localhost:8080/",
          "height": 484
        },
        "id": "eS6E9MoV8SXb",
        "outputId": "94f39cdd-1c3d-40aa-aff3-b26a0c641f43"
      },
      "execution_count": 196,
      "outputs": [
        {
          "output_type": "stream",
          "name": "stdout",
          "text": [
            "Confusion Matrix:\n"
          ]
        },
        {
          "output_type": "execute_result",
          "data": {
            "text/plain": [
              "<sklearn.metrics._plot.confusion_matrix.ConfusionMatrixDisplay at 0x780b9a882770>"
            ]
          },
          "metadata": {},
          "execution_count": 196
        },
        {
          "output_type": "display_data",
          "data": {
            "text/plain": [
              "<Figure size 640x480 with 2 Axes>"
            ],
            "image/png": "[encoded data removed]"
          },
          "metadata": {}
        }
      ]
    },
    {
      "cell_type": "code",
      "source": [
        "# Evaluate the best model\n",
        "final_mse = mean_squared_error(y_test, y_pred_best)\n",
        "final_mae = mean_absolute_error(y_test, y_pred_best)\n",
        "final_rmse = np.sqrt(final_mse)\n",
        "print(f\"Final Model with k={best_k_value}:\")\n",
        "print(f\"Mean Absolute Error (MAE): {final_mae:.2f}\")\n",
        "print(f\"Mean Squared Error (MSE): {final_mse:.2f}\")\n",
        "print(f\"Root Mean Squared Error (RMSE): {final_rmse:.2f}\")\n",
        "\n"
      ],
      "metadata": {
        "colab": {
          "base_uri": "https://localhost:8080/"
        },
        "id": "yt3wFIlidSqc",
        "outputId": "ee3555c7-60e8-41f2-b388-544b368a9b26"
      },
      "execution_count": 202,
      "outputs": [
        {
          "output_type": "stream",
          "name": "stdout",
          "text": [
            "Final Model with k=67:\n",
            "Mean Absolute Error (MAE): 0.31\n",
            "Mean Squared Error (MSE): 0.31\n",
            "Root Mean Squared Error (RMSE): 0.55\n"
          ]
        }
      ]
    }
  ],
  "metadata": {
    "colab": {
      "provenance": []
    },
    "kernelspec": {
      "display_name": "Python 3",
      "name": "python3"
    },
    "language_info": {
      "name": "python"
    }
  },
  "nbformat": 4,
  "nbformat_minor": 0
}